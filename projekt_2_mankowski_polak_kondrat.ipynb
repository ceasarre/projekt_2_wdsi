{
 "metadata": {
  "language_info": {
   "codemirror_mode": {
    "name": "ipython",
    "version": 3
   },
   "file_extension": ".py",
   "mimetype": "text/x-python",
   "name": "python",
   "nbconvert_exporter": "python",
   "pygments_lexer": "ipython3",
   "version": "3.9.4"
  },
  "orig_nbformat": 2,
  "kernelspec": {
   "name": "python394jvsc74a57bd045da9f7b133cccb0cb5efe1924dab00dacfce71d35bd412fafa027da5a6615cb",
   "display_name": "Python 3.9.4 64-bit ('lab_pg': conda)"
  }
 },
 "nbformat": 4,
 "nbformat_minor": 2,
 "cells": [
  {
   "source": [
    "Wczytanie danych"
   ],
   "cell_type": "markdown",
   "metadata": {}
  },
  {
   "source": [
    "import pandas as pd\n",
    "import numpy as np"
   ],
   "cell_type": "code",
   "metadata": {},
   "execution_count": 358,
   "outputs": []
  },
  {
   "cell_type": "code",
   "execution_count": 359,
   "metadata": {},
   "outputs": [
    {
     "output_type": "stream",
     "name": "stdout",
     "text": [
      "1. Title: Mammographic Mass Data\n\n2. Sources:\n\n   (a) Original owners of database:\n        Prof. Dr. Rüdiger Schulz-Wendtland\n        Institute of Radiology, Gynaecological Radiology, University Erlangen-Nuremberg\n        Universitätsstraße 21-23\n        91054 Erlangen, Germany\n        \n   (b) Donor of database:\n        Matthias Elter\n        Fraunhofer Institute for Integrated Circuits (IIS)\n        Image Processing and Medical Engineering Department (BMT) \n        Am Wolfsmantel 33\n        91058 Erlangen, Germany\n        matthias.elter@iis.fraunhofer.de\n        (49) 9131-7767327 \n        \n   (c) Date received: October 2007\n \n3. Past Usage:\n    M. Elter, R. Schulz-Wendtland and T. Wittenberg (2007)\n    The prediction of breast cancer biopsy outcomes using two CAD approaches that both emphasize an intelligible decision process.\n    Medical Physics 34(11), pp. 4164-4172\n\n4. Relevant Information:\n    Mammography is the most effective method for breast cancer screening\n    available today. However, the low positive predictive value of breast\n    biopsy resulting from mammogram interpretation leads to approximately\n    70% unnecessary biopsies with benign outcomes. To reduce the high\n    number of unnecessary breast biopsies, several computer-aided diagnosis\n    (CAD) systems have been proposed in the last years.These systems\n    help physicians in their decision to perform a breast biopsy on a suspicious\n    lesion seen in a mammogram or to perform a short term follow-up\n    examination instead.\n    This data set can be used to predict the severity (benign or malignant)\n    of a mammographic mass lesion from BI-RADS attributes and the patient's age.\n    It contains a BI-RADS assessment, the patient's age and three BI-RADS attributes\n    together with the ground truth (the severity field) for 516 benign and\n    445 malignant masses that have been identified on full field digital mammograms\n    collected at the Institute of Radiology of the\n    University Erlangen-Nuremberg between 2003 and 2006.\n    Each instance has an associated BI-RADS assessment ranging from 1 (definitely benign)\n    to 5 (highly suggestive of malignancy) assigned in a double-review process by\n    physicians. Assuming that all cases with BI-RADS assessments greater or equal\n    a given value (varying from 1 to 5), are malignant and the other cases benign,\n    sensitivities and associated specificities can be calculated. These can be an\n    indication of how well a CAD system performs compared to the radiologists.\n\n5. Number of Instances: 961\n\n6. Number of Attributes: 6 (1 goal field, 1 non-predictive, 4 predictive attributes)\n\n7. Attribute Information:\n   1. BI-RADS assessment: 1 to 5 (ordinal)  \n   2. Age: patient's age in years (integer)\n   3. Shape: mass shape: round=1 oval=2 lobular=3 irregular=4 (nominal)\n   4. Margin: mass margin: circumscribed=1 microlobulated=2 obscured=3 ill-defined=4 spiculated=5 (nominal)\n   5. Density: mass density high=1 iso=2 low=3 fat-containing=4 (ordinal)\n   6. Severity: benign=0 or malignant=1 (binominal)\n\n8. Missing Attribute Values: Yes\n    - BI-RADS assessment:    2\n    - Age:                   5\n    - Shape:                31\n    - Margin:               48\n    - Density:              76\n    - Severity:              0\n\n9. Class Distribution: benign: 516; malignant: 445\n\n"
     ]
    }
   ],
   "source": [
    "with open('mammographic_masses.names') as f:\n",
    "    print(f.read())"
   ]
  },
  {
   "cell_type": "code",
   "execution_count": 360,
   "metadata": {},
   "outputs": [
    {
     "output_type": "execute_result",
     "data": {
      "text/plain": [
       "   0   1  2  3  4  5\n",
       "0  5  67  3  5  3  1\n",
       "1  4  43  1  1  ?  1\n",
       "2  5  58  4  5  3  1\n",
       "3  4  28  1  1  3  0\n",
       "4  5  74  1  5  ?  1"
      ],
      "text/html": "<div>\n<style scoped>\n    .dataframe tbody tr th:only-of-type {\n        vertical-align: middle;\n    }\n\n    .dataframe tbody tr th {\n        vertical-align: top;\n    }\n\n    .dataframe thead th {\n        text-align: right;\n    }\n</style>\n<table border=\"1\" class=\"dataframe\">\n  <thead>\n    <tr style=\"text-align: right;\">\n      <th></th>\n      <th>0</th>\n      <th>1</th>\n      <th>2</th>\n      <th>3</th>\n      <th>4</th>\n      <th>5</th>\n    </tr>\n  </thead>\n  <tbody>\n    <tr>\n      <th>0</th>\n      <td>5</td>\n      <td>67</td>\n      <td>3</td>\n      <td>5</td>\n      <td>3</td>\n      <td>1</td>\n    </tr>\n    <tr>\n      <th>1</th>\n      <td>4</td>\n      <td>43</td>\n      <td>1</td>\n      <td>1</td>\n      <td>?</td>\n      <td>1</td>\n    </tr>\n    <tr>\n      <th>2</th>\n      <td>5</td>\n      <td>58</td>\n      <td>4</td>\n      <td>5</td>\n      <td>3</td>\n      <td>1</td>\n    </tr>\n    <tr>\n      <th>3</th>\n      <td>4</td>\n      <td>28</td>\n      <td>1</td>\n      <td>1</td>\n      <td>3</td>\n      <td>0</td>\n    </tr>\n    <tr>\n      <th>4</th>\n      <td>5</td>\n      <td>74</td>\n      <td>1</td>\n      <td>5</td>\n      <td>?</td>\n      <td>1</td>\n    </tr>\n  </tbody>\n</table>\n</div>"
     },
     "metadata": {},
     "execution_count": 360
    }
   ],
   "source": [
    "data = pd.read_csv('mammographic_masses.data', header=None)\n",
    "data.head()"
   ]
  },
  {
   "cell_type": "code",
   "execution_count": 361,
   "metadata": {},
   "outputs": [],
   "source": [
    "data = data.rename(columns={0: 'BI-RADS assessment', 1 : 'Age', 2 : 'Shape', 3 : 'Margin', 4 : 'Density', 5 : 'Severity'})"
   ]
  },
  {
   "cell_type": "code",
   "execution_count": 362,
   "metadata": {},
   "outputs": [
    {
     "output_type": "execute_result",
     "data": {
      "text/plain": [
       "  BI-RADS assessment Age Shape Margin Density  Severity\n",
       "0                  5  67     3      5       3         1\n",
       "1                  4  43     1      1       ?         1\n",
       "2                  5  58     4      5       3         1\n",
       "3                  4  28     1      1       3         0\n",
       "4                  5  74     1      5       ?         1"
      ],
      "text/html": "<div>\n<style scoped>\n    .dataframe tbody tr th:only-of-type {\n        vertical-align: middle;\n    }\n\n    .dataframe tbody tr th {\n        vertical-align: top;\n    }\n\n    .dataframe thead th {\n        text-align: right;\n    }\n</style>\n<table border=\"1\" class=\"dataframe\">\n  <thead>\n    <tr style=\"text-align: right;\">\n      <th></th>\n      <th>BI-RADS assessment</th>\n      <th>Age</th>\n      <th>Shape</th>\n      <th>Margin</th>\n      <th>Density</th>\n      <th>Severity</th>\n    </tr>\n  </thead>\n  <tbody>\n    <tr>\n      <th>0</th>\n      <td>5</td>\n      <td>67</td>\n      <td>3</td>\n      <td>5</td>\n      <td>3</td>\n      <td>1</td>\n    </tr>\n    <tr>\n      <th>1</th>\n      <td>4</td>\n      <td>43</td>\n      <td>1</td>\n      <td>1</td>\n      <td>?</td>\n      <td>1</td>\n    </tr>\n    <tr>\n      <th>2</th>\n      <td>5</td>\n      <td>58</td>\n      <td>4</td>\n      <td>5</td>\n      <td>3</td>\n      <td>1</td>\n    </tr>\n    <tr>\n      <th>3</th>\n      <td>4</td>\n      <td>28</td>\n      <td>1</td>\n      <td>1</td>\n      <td>3</td>\n      <td>0</td>\n    </tr>\n    <tr>\n      <th>4</th>\n      <td>5</td>\n      <td>74</td>\n      <td>1</td>\n      <td>5</td>\n      <td>?</td>\n      <td>1</td>\n    </tr>\n  </tbody>\n</table>\n</div>"
     },
     "metadata": {},
     "execution_count": 362
    }
   ],
   "source": [
    "data.head()"
   ]
  },
  {
   "source": [
    "Sprawdzenie czy są brakujące dane"
   ],
   "cell_type": "markdown",
   "metadata": {}
  },
  {
   "cell_type": "code",
   "execution_count": 363,
   "metadata": {},
   "outputs": [
    {
     "output_type": "stream",
     "name": "stdout",
     "text": [
      "False\n"
     ]
    }
   ],
   "source": [
    "print(data.isnull().values.any())"
   ]
  },
  {
   "source": [
    "Widać że niektóre wartości są pouzupełniane stringami, mimo że wyszukanie pustych komórek zwraca false.\n",
    "Puste wartości są stringami w postaci '?'"
   ],
   "cell_type": "markdown",
   "metadata": {}
  },
  {
   "cell_type": "code",
   "execution_count": 364,
   "metadata": {},
   "outputs": [
    {
     "output_type": "stream",
     "name": "stdout",
     "text": [
      "Liczba wartosci ? wynosi 162\n"
     ]
    }
   ],
   "source": [
    "print(\"Liczba wartosci {} wynosi {}\".format('?',np.count_nonzero(data.values == '?')))"
   ]
  },
  {
   "source": [
    "Usunięcie wszystkich wartości gdzie jest \"?\""
   ],
   "cell_type": "markdown",
   "metadata": {}
  },
  {
   "cell_type": "code",
   "execution_count": 365,
   "metadata": {
    "tags": []
   },
   "outputs": [
    {
     "output_type": "stream",
     "name": "stdout",
     "text": [
      "Liczba wartosci ? wynosi 0\n"
     ]
    }
   ],
   "source": [
    "for column in data.columns:\n",
    "    to_mean_calc = np.array(data.loc[data[column] != '?', column])\n",
    "    to_mean_calc = to_mean_calc.astype('int32')\n",
    "    data.loc[data[column] == '?', column] = np.mean(to_mean_calc).astype('int32')\n",
    "\n",
    "print(\"Liczba wartosci {} wynosi {}\".format('?',np.count_nonzero(data.values == '?')))"
   ]
  },
  {
   "source": [
    "BI-RADS jest zmienną która wg opisu datasetu nie będzie używana do predykcji, stąd kolumnę można usunąć,\n",
    "Stworzymy nowy dataframe na dane do przetwarzania."
   ],
   "cell_type": "markdown",
   "metadata": {}
  },
  {
   "cell_type": "code",
   "execution_count": 366,
   "metadata": {},
   "outputs": [
    {
     "output_type": "execute_result",
     "data": {
      "text/plain": [
       "  Age Shape Margin Density  Severity\n",
       "0  67     3      5       3         1\n",
       "1  43     1      1       2         1\n",
       "2  58     4      5       3         1\n",
       "3  28     1      1       3         0\n",
       "4  74     1      5       2         1"
      ],
      "text/html": "<div>\n<style scoped>\n    .dataframe tbody tr th:only-of-type {\n        vertical-align: middle;\n    }\n\n    .dataframe tbody tr th {\n        vertical-align: top;\n    }\n\n    .dataframe thead th {\n        text-align: right;\n    }\n</style>\n<table border=\"1\" class=\"dataframe\">\n  <thead>\n    <tr style=\"text-align: right;\">\n      <th></th>\n      <th>Age</th>\n      <th>Shape</th>\n      <th>Margin</th>\n      <th>Density</th>\n      <th>Severity</th>\n    </tr>\n  </thead>\n  <tbody>\n    <tr>\n      <th>0</th>\n      <td>67</td>\n      <td>3</td>\n      <td>5</td>\n      <td>3</td>\n      <td>1</td>\n    </tr>\n    <tr>\n      <th>1</th>\n      <td>43</td>\n      <td>1</td>\n      <td>1</td>\n      <td>2</td>\n      <td>1</td>\n    </tr>\n    <tr>\n      <th>2</th>\n      <td>58</td>\n      <td>4</td>\n      <td>5</td>\n      <td>3</td>\n      <td>1</td>\n    </tr>\n    <tr>\n      <th>3</th>\n      <td>28</td>\n      <td>1</td>\n      <td>1</td>\n      <td>3</td>\n      <td>0</td>\n    </tr>\n    <tr>\n      <th>4</th>\n      <td>74</td>\n      <td>1</td>\n      <td>5</td>\n      <td>2</td>\n      <td>1</td>\n    </tr>\n  </tbody>\n</table>\n</div>"
     },
     "metadata": {},
     "execution_count": 366
    }
   ],
   "source": [
    "dataset = data.copy()\n",
    "dataset.drop('BI-RADS assessment', axis='columns', inplace = True)\n",
    "dataset.head()"
   ]
  },
  {
   "source": [
    "Wszystkie dane są danymi kategorycznymi, stąd też zrzutujemy wszystkie tabele do inta, żeby zachować wartości klas"
   ],
   "cell_type": "markdown",
   "metadata": {}
  },
  {
   "cell_type": "code",
   "execution_count": 367,
   "metadata": {},
   "outputs": [
    {
     "output_type": "execute_result",
     "data": {
      "text/plain": [
       "Age         int64\n",
       "Shape       int64\n",
       "Margin      int64\n",
       "Density     int64\n",
       "Severity    int64\n",
       "dtype: object"
      ]
     },
     "metadata": {},
     "execution_count": 367
    }
   ],
   "source": [
    "dataset = dataset.astype('int64')\n",
    "dataset.dtypes"
   ]
  },
  {
   "source": [
    "Z racji zastosowania danych kategorycznych, zastosujemy OneHotEncoding tych danych\n",
    "\n",
    "Tabela Age zostanie znormalizowana z uzyciem StandardScalera \n",
    ">Shape: mass shape: round=1 oval=2 lobular=3 irregular=4 (nominal)\n",
    "\n",
    ">Margin: mass margin: circumscribed=1 microlobulated=2 obscured=3 ill-defined=4 spiculated=5 (nominal)\n",
    "\n",
    ">Density: mass density high=1 iso=2 low=3 fat-containing=4 (ordinal)\n",
    "\n",
    ">Age: int, należy znormalizować"
   ],
   "cell_type": "markdown",
   "metadata": {}
  },
  {
   "cell_type": "code",
   "execution_count": 368,
   "metadata": {},
   "outputs": [
    {
     "output_type": "execute_result",
     "data": {
      "text/plain": [
       "        Age  Shape  Margin  Density  Severity\n",
       "0  0.797726      3       5        3         1\n",
       "1 -0.864912      1       1        2         1\n",
       "2  0.174237      4       5        3         1\n",
       "3 -1.904060      1       1        3         0\n",
       "4  1.282661      1       5        2         1"
      ],
      "text/html": "<div>\n<style scoped>\n    .dataframe tbody tr th:only-of-type {\n        vertical-align: middle;\n    }\n\n    .dataframe tbody tr th {\n        vertical-align: top;\n    }\n\n    .dataframe thead th {\n        text-align: right;\n    }\n</style>\n<table border=\"1\" class=\"dataframe\">\n  <thead>\n    <tr style=\"text-align: right;\">\n      <th></th>\n      <th>Age</th>\n      <th>Shape</th>\n      <th>Margin</th>\n      <th>Density</th>\n      <th>Severity</th>\n    </tr>\n  </thead>\n  <tbody>\n    <tr>\n      <th>0</th>\n      <td>0.797726</td>\n      <td>3</td>\n      <td>5</td>\n      <td>3</td>\n      <td>1</td>\n    </tr>\n    <tr>\n      <th>1</th>\n      <td>-0.864912</td>\n      <td>1</td>\n      <td>1</td>\n      <td>2</td>\n      <td>1</td>\n    </tr>\n    <tr>\n      <th>2</th>\n      <td>0.174237</td>\n      <td>4</td>\n      <td>5</td>\n      <td>3</td>\n      <td>1</td>\n    </tr>\n    <tr>\n      <th>3</th>\n      <td>-1.904060</td>\n      <td>1</td>\n      <td>1</td>\n      <td>3</td>\n      <td>0</td>\n    </tr>\n    <tr>\n      <th>4</th>\n      <td>1.282661</td>\n      <td>1</td>\n      <td>5</td>\n      <td>2</td>\n      <td>1</td>\n    </tr>\n  </tbody>\n</table>\n</div>"
     },
     "metadata": {},
     "execution_count": 368
    }
   ],
   "source": [
    "from sklearn.preprocessing import StandardScaler, OneHotEncoder\n",
    "scaler = StandardScaler()\n",
    "dataset['Age'] = scaler.fit_transform(np.asarray(dataset['Age']).reshape(-1,1))\n",
    "dataset.head()"
   ]
  },
  {
   "cell_type": "code",
   "execution_count": 369,
   "metadata": {},
   "outputs": [
    {
     "output_type": "execute_result",
     "data": {
      "text/plain": [
       "        Age  Margin  Density  Severity  Shape_1  Shape_2  Shape_3  Shape_4\n",
       "0  0.797726       5        3         1        0        0        1        0\n",
       "1 -0.864912       1        2         1        1        0        0        0\n",
       "2  0.174237       5        3         1        0        0        0        1\n",
       "3 -1.904060       1        3         0        1        0        0        0\n",
       "4  1.282661       5        2         1        1        0        0        0"
      ],
      "text/html": "<div>\n<style scoped>\n    .dataframe tbody tr th:only-of-type {\n        vertical-align: middle;\n    }\n\n    .dataframe tbody tr th {\n        vertical-align: top;\n    }\n\n    .dataframe thead th {\n        text-align: right;\n    }\n</style>\n<table border=\"1\" class=\"dataframe\">\n  <thead>\n    <tr style=\"text-align: right;\">\n      <th></th>\n      <th>Age</th>\n      <th>Margin</th>\n      <th>Density</th>\n      <th>Severity</th>\n      <th>Shape_1</th>\n      <th>Shape_2</th>\n      <th>Shape_3</th>\n      <th>Shape_4</th>\n    </tr>\n  </thead>\n  <tbody>\n    <tr>\n      <th>0</th>\n      <td>0.797726</td>\n      <td>5</td>\n      <td>3</td>\n      <td>1</td>\n      <td>0</td>\n      <td>0</td>\n      <td>1</td>\n      <td>0</td>\n    </tr>\n    <tr>\n      <th>1</th>\n      <td>-0.864912</td>\n      <td>1</td>\n      <td>2</td>\n      <td>1</td>\n      <td>1</td>\n      <td>0</td>\n      <td>0</td>\n      <td>0</td>\n    </tr>\n    <tr>\n      <th>2</th>\n      <td>0.174237</td>\n      <td>5</td>\n      <td>3</td>\n      <td>1</td>\n      <td>0</td>\n      <td>0</td>\n      <td>0</td>\n      <td>1</td>\n    </tr>\n    <tr>\n      <th>3</th>\n      <td>-1.904060</td>\n      <td>1</td>\n      <td>3</td>\n      <td>0</td>\n      <td>1</td>\n      <td>0</td>\n      <td>0</td>\n      <td>0</td>\n    </tr>\n    <tr>\n      <th>4</th>\n      <td>1.282661</td>\n      <td>5</td>\n      <td>2</td>\n      <td>1</td>\n      <td>1</td>\n      <td>0</td>\n      <td>0</td>\n      <td>0</td>\n    </tr>\n  </tbody>\n</table>\n</div>"
     },
     "metadata": {},
     "execution_count": 369
    }
   ],
   "source": [
    "dataset = pd.get_dummies(dataset, columns=['Shape'])\n",
    "dataset.head()"
   ]
  },
  {
   "cell_type": "code",
   "execution_count": 370,
   "metadata": {},
   "outputs": [
    {
     "output_type": "execute_result",
     "data": {
      "text/plain": [
       "        Age  Density  Severity  Shape_1  Shape_2  Shape_3  Shape_4  Margin_1  \\\n",
       "0  0.797726        3         1        0        0        1        0         0   \n",
       "1 -0.864912        2         1        1        0        0        0         1   \n",
       "2  0.174237        3         1        0        0        0        1         0   \n",
       "3 -1.904060        3         0        1        0        0        0         1   \n",
       "4  1.282661        2         1        1        0        0        0         0   \n",
       "\n",
       "   Margin_2  Margin_3  Margin_4  Margin_5  \n",
       "0         0         0         0         1  \n",
       "1         0         0         0         0  \n",
       "2         0         0         0         1  \n",
       "3         0         0         0         0  \n",
       "4         0         0         0         1  "
      ],
      "text/html": "<div>\n<style scoped>\n    .dataframe tbody tr th:only-of-type {\n        vertical-align: middle;\n    }\n\n    .dataframe tbody tr th {\n        vertical-align: top;\n    }\n\n    .dataframe thead th {\n        text-align: right;\n    }\n</style>\n<table border=\"1\" class=\"dataframe\">\n  <thead>\n    <tr style=\"text-align: right;\">\n      <th></th>\n      <th>Age</th>\n      <th>Density</th>\n      <th>Severity</th>\n      <th>Shape_1</th>\n      <th>Shape_2</th>\n      <th>Shape_3</th>\n      <th>Shape_4</th>\n      <th>Margin_1</th>\n      <th>Margin_2</th>\n      <th>Margin_3</th>\n      <th>Margin_4</th>\n      <th>Margin_5</th>\n    </tr>\n  </thead>\n  <tbody>\n    <tr>\n      <th>0</th>\n      <td>0.797726</td>\n      <td>3</td>\n      <td>1</td>\n      <td>0</td>\n      <td>0</td>\n      <td>1</td>\n      <td>0</td>\n      <td>0</td>\n      <td>0</td>\n      <td>0</td>\n      <td>0</td>\n      <td>1</td>\n    </tr>\n    <tr>\n      <th>1</th>\n      <td>-0.864912</td>\n      <td>2</td>\n      <td>1</td>\n      <td>1</td>\n      <td>0</td>\n      <td>0</td>\n      <td>0</td>\n      <td>1</td>\n      <td>0</td>\n      <td>0</td>\n      <td>0</td>\n      <td>0</td>\n    </tr>\n    <tr>\n      <th>2</th>\n      <td>0.174237</td>\n      <td>3</td>\n      <td>1</td>\n      <td>0</td>\n      <td>0</td>\n      <td>0</td>\n      <td>1</td>\n      <td>0</td>\n      <td>0</td>\n      <td>0</td>\n      <td>0</td>\n      <td>1</td>\n    </tr>\n    <tr>\n      <th>3</th>\n      <td>-1.904060</td>\n      <td>3</td>\n      <td>0</td>\n      <td>1</td>\n      <td>0</td>\n      <td>0</td>\n      <td>0</td>\n      <td>1</td>\n      <td>0</td>\n      <td>0</td>\n      <td>0</td>\n      <td>0</td>\n    </tr>\n    <tr>\n      <th>4</th>\n      <td>1.282661</td>\n      <td>2</td>\n      <td>1</td>\n      <td>1</td>\n      <td>0</td>\n      <td>0</td>\n      <td>0</td>\n      <td>0</td>\n      <td>0</td>\n      <td>0</td>\n      <td>0</td>\n      <td>1</td>\n    </tr>\n  </tbody>\n</table>\n</div>"
     },
     "metadata": {},
     "execution_count": 370
    }
   ],
   "source": [
    "dataset = pd.get_dummies(dataset, columns=['Margin'])\n",
    "dataset.head()"
   ]
  },
  {
   "cell_type": "code",
   "execution_count": 371,
   "metadata": {},
   "outputs": [
    {
     "output_type": "execute_result",
     "data": {
      "text/plain": [
       "        Age  Severity  Shape_1  Shape_2  Shape_3  Shape_4  Margin_1  Margin_2  \\\n",
       "0  0.797726         1        0        0        1        0         0         0   \n",
       "1 -0.864912         1        1        0        0        0         1         0   \n",
       "2  0.174237         1        0        0        0        1         0         0   \n",
       "3 -1.904060         0        1        0        0        0         1         0   \n",
       "4  1.282661         1        1        0        0        0         0         0   \n",
       "\n",
       "   Margin_3  Margin_4  Margin_5  Density_1  Density_2  Density_3  Density_4  \n",
       "0         0         0         1          0          0          1          0  \n",
       "1         0         0         0          0          1          0          0  \n",
       "2         0         0         1          0          0          1          0  \n",
       "3         0         0         0          0          0          1          0  \n",
       "4         0         0         1          0          1          0          0  "
      ],
      "text/html": "<div>\n<style scoped>\n    .dataframe tbody tr th:only-of-type {\n        vertical-align: middle;\n    }\n\n    .dataframe tbody tr th {\n        vertical-align: top;\n    }\n\n    .dataframe thead th {\n        text-align: right;\n    }\n</style>\n<table border=\"1\" class=\"dataframe\">\n  <thead>\n    <tr style=\"text-align: right;\">\n      <th></th>\n      <th>Age</th>\n      <th>Severity</th>\n      <th>Shape_1</th>\n      <th>Shape_2</th>\n      <th>Shape_3</th>\n      <th>Shape_4</th>\n      <th>Margin_1</th>\n      <th>Margin_2</th>\n      <th>Margin_3</th>\n      <th>Margin_4</th>\n      <th>Margin_5</th>\n      <th>Density_1</th>\n      <th>Density_2</th>\n      <th>Density_3</th>\n      <th>Density_4</th>\n    </tr>\n  </thead>\n  <tbody>\n    <tr>\n      <th>0</th>\n      <td>0.797726</td>\n      <td>1</td>\n      <td>0</td>\n      <td>0</td>\n      <td>1</td>\n      <td>0</td>\n      <td>0</td>\n      <td>0</td>\n      <td>0</td>\n      <td>0</td>\n      <td>1</td>\n      <td>0</td>\n      <td>0</td>\n      <td>1</td>\n      <td>0</td>\n    </tr>\n    <tr>\n      <th>1</th>\n      <td>-0.864912</td>\n      <td>1</td>\n      <td>1</td>\n      <td>0</td>\n      <td>0</td>\n      <td>0</td>\n      <td>1</td>\n      <td>0</td>\n      <td>0</td>\n      <td>0</td>\n      <td>0</td>\n      <td>0</td>\n      <td>1</td>\n      <td>0</td>\n      <td>0</td>\n    </tr>\n    <tr>\n      <th>2</th>\n      <td>0.174237</td>\n      <td>1</td>\n      <td>0</td>\n      <td>0</td>\n      <td>0</td>\n      <td>1</td>\n      <td>0</td>\n      <td>0</td>\n      <td>0</td>\n      <td>0</td>\n      <td>1</td>\n      <td>0</td>\n      <td>0</td>\n      <td>1</td>\n      <td>0</td>\n    </tr>\n    <tr>\n      <th>3</th>\n      <td>-1.904060</td>\n      <td>0</td>\n      <td>1</td>\n      <td>0</td>\n      <td>0</td>\n      <td>0</td>\n      <td>1</td>\n      <td>0</td>\n      <td>0</td>\n      <td>0</td>\n      <td>0</td>\n      <td>0</td>\n      <td>0</td>\n      <td>1</td>\n      <td>0</td>\n    </tr>\n    <tr>\n      <th>4</th>\n      <td>1.282661</td>\n      <td>1</td>\n      <td>1</td>\n      <td>0</td>\n      <td>0</td>\n      <td>0</td>\n      <td>0</td>\n      <td>0</td>\n      <td>0</td>\n      <td>0</td>\n      <td>1</td>\n      <td>0</td>\n      <td>1</td>\n      <td>0</td>\n      <td>0</td>\n    </tr>\n  </tbody>\n</table>\n</div>"
     },
     "metadata": {},
     "execution_count": 371
    }
   ],
   "source": [
    "dataset = pd.get_dummies(dataset, columns=['Density'])\n",
    "dataset.head()"
   ]
  },
  {
   "source": [
    "Każda ostatnia wartość cech kodowanych binarnie jest nadmiarowa, zatem można ją usunąć\n",
    "\n",
    "Przykład z Shape:\n"
   ],
   "cell_type": "markdown",
   "metadata": {}
  },
  {
   "cell_type": "code",
   "execution_count": null,
   "metadata": {},
   "outputs": [],
   "source": []
  }
 ]
}